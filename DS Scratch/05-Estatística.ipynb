{
 "cells": [
  {
   "cell_type": "markdown",
   "id": "e53aaa27",
   "metadata": {},
   "source": [
    "# Estatística"
   ]
  },
  {
   "cell_type": "markdown",
   "id": "0ce63779",
   "metadata": {},
   "source": [
    "### Conjunto Único de Dados"
   ]
  },
  {
   "cell_type": "code",
   "execution_count": 1,
   "id": "0625a146",
   "metadata": {},
   "outputs": [],
   "source": [
    "from collections import Counter\n",
    "from matplotlib import pyplot as plt"
   ]
  },
  {
   "cell_type": "code",
   "execution_count": 2,
   "id": "f18cccdd",
   "metadata": {},
   "outputs": [],
   "source": [
    "import random\n",
    "\n",
    "# Gerar uma lista de 1000 números inteiros aleatórios entre 1 e 100\n",
    "num_friends = [random.randint(1, 100) for _ in range(5000)]"
   ]
  },
  {
   "cell_type": "code",
   "execution_count": 3,
   "id": "eb82da33",
   "metadata": {},
   "outputs": [
    {
     "data": {
      "image/png": "[encoded data removed]",
      "text/plain": [
       "<Figure size 432x288 with 1 Axes>"
      ]
     },
     "metadata": {
      "needs_background": "light"
     },
     "output_type": "display_data"
    }
   ],
   "source": [
    "friends_counts = Counter(num_friends)\n",
    "xs = range(101)\n",
    "ys = [friends_counts[x] for x in xs]\n",
    "plt.bar(xs, ys)\n",
    "plt.axis([0, 101, 0, max(friends_counts)])\n",
    "plt.title(\"Histograma de Contagem de Amigos\")\n",
    "plt.xlabel(\"# de amigos\")\n",
    "plt.ylabel(\"# de pessoas\")\n",
    "plt.show()"
   ]
  },
  {
   "cell_type": "code",
   "execution_count": null,
   "id": "43b4010f",
   "metadata": {},
   "outputs": [],
   "source": []
  }
 ],
 "metadata": {
  "kernelspec": {
   "display_name": "Python 3 (ipykernel)",
   "language": "python",
   "name": "python3"
  },
  "language_info": {
   "codemirror_mode": {
    "name": "ipython",
    "version": 3
   },
   "file_extension": ".py",
   "mimetype": "text/x-python",
   "name": "python",
   "nbconvert_exporter": "python",
   "pygments_lexer": "ipython3",
   "version": "3.8.10"
  }
 },
 "nbformat": 4,
 "nbformat_minor": 5
}
