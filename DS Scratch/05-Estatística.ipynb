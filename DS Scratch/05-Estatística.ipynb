{
 "cells": [
  {
   "cell_type": "markdown",
   "id": "58aed42d",
   "metadata": {},
   "source": [
    "# Estatística"
   ]
  },
  {
   "cell_type": "markdown",
   "id": "5aee3eb2",
   "metadata": {},
   "source": [
    "### Conjunto Único de Dados"
   ]
  },
  {
   "cell_type": "code",
   "execution_count": 1,
   "id": "89448d86",
   "metadata": {},
   "outputs": [],
   "source": [
    "from collections import Counter\n",
    "from matplotlib import pyplot as plt"
   ]
  },
  {
   "cell_type": "code",
   "execution_count": 2,
   "id": "510337cf",
   "metadata": {},
   "outputs": [],
   "source": [
    "import random\n",
    "\n",
    "# Gerar uma lista de 1000 números inteiros aleatórios entre 1 e 100\n",
    "num_friends = [random.randint(1, 100) for _ in range(300)]"
   ]
  },
  {
   "cell_type": "code",
   "execution_count": 3,
   "id": "db110792",
   "metadata": {},
   "outputs": [
    {
     "data": {
      "image/png": "[encoded data removed]",
      "text/plain": [
       "<Figure size 432x288 with 1 Axes>"
      ]
     },
     "metadata": {
      "needs_background": "light"
     },
     "output_type": "display_data"
    }
   ],
   "source": [
    "friends_counts = Counter(num_friends)\n",
    "xs = range(101)\n",
    "ys = [friends_counts[x] for x in xs]\n",
    "plt.bar(xs, ys)\n",
    "plt.axis([0, 101, 0, 15])\n",
    "plt.title(\"Histograma de Contagem de Amigos\")\n",
    "plt.xlabel(\"# de amigos\")\n",
    "plt.ylabel(\"# de pessoas\")\n",
    "plt.show()"
   ]
  },
  {
   "cell_type": "markdown",
   "id": "99970588",
   "metadata": {},
   "source": [
    "### Tendência Central"
   ]
  },
  {
   "cell_type": "code",
   "execution_count": 4,
   "id": "2a6e4ece",
   "metadata": {},
   "outputs": [],
   "source": [
    "# média\n",
    "def mean(x):\n",
    "    return sum(x) / len(x)"
   ]
  },
  {
   "cell_type": "code",
   "execution_count": 5,
   "id": "e892d442",
   "metadata": {},
   "outputs": [
    {
     "data": {
      "text/plain": [
       "50.72666666666667"
      ]
     },
     "execution_count": 5,
     "metadata": {},
     "output_type": "execute_result"
    }
   ],
   "source": [
    "mean(num_friends)"
   ]
  },
  {
   "cell_type": "code",
   "execution_count": 6,
   "id": "0c822604",
   "metadata": {},
   "outputs": [],
   "source": [
    "# mediana\n",
    "def median(v):\n",
    "    \"\"\"Valor mais ao meio de (v)\"\"\"\n",
    "    n = len(v)\n",
    "    sorted_v = sorted(v)\n",
    "    midpoint = n // 2\n",
    "    \n",
    "    # se impar, retorna valor central\n",
    "    # se par, retorna média dos valores centrais\n",
    "    if n % 2 == 1:\n",
    "        return sorted_v[midpoint]\n",
    "    else:\n",
    "        lo = midpoint - 1\n",
    "        hi = midpoint\n",
    "        return (sorted_v[lo] + sorted_v[hi]) / 2"
   ]
  },
  {
   "cell_type": "code",
   "execution_count": 7,
   "id": "9ee45c58",
   "metadata": {},
   "outputs": [
    {
     "data": {
      "text/plain": [
       "51.5"
      ]
     },
     "execution_count": 7,
     "metadata": {},
     "output_type": "execute_result"
    }
   ],
   "source": [
    "median(num_friends)"
   ]
  },
  {
   "cell_type": "code",
   "execution_count": 8,
   "id": "266a4341",
   "metadata": {},
   "outputs": [],
   "source": [
    "def quantile(x, p):\n",
    "    # Retorna o valor percentual p-ésimo em x\n",
    "    p_index = int(p *len(x))\n",
    "    return sorted(x)[p_index]"
   ]
  },
  {
   "cell_type": "code",
   "execution_count": 9,
   "id": "c3817869",
   "metadata": {},
   "outputs": [
    {
     "data": {
      "text/plain": [
       "12"
      ]
     },
     "execution_count": 9,
     "metadata": {},
     "output_type": "execute_result"
    }
   ],
   "source": [
    "quantile(num_friends, 0.10)"
   ]
  },
  {
   "cell_type": "code",
   "execution_count": 10,
   "id": "bf4ade53",
   "metadata": {},
   "outputs": [
    {
     "data": {
      "text/plain": [
       "22"
      ]
     },
     "execution_count": 10,
     "metadata": {},
     "output_type": "execute_result"
    }
   ],
   "source": [
    "quantile(num_friends, 0.20)"
   ]
  },
  {
   "cell_type": "code",
   "execution_count": 11,
   "id": "59b74230",
   "metadata": {},
   "outputs": [
    {
     "data": {
      "text/plain": [
       "26"
      ]
     },
     "execution_count": 11,
     "metadata": {},
     "output_type": "execute_result"
    }
   ],
   "source": [
    "quantile(num_friends, 0.25)"
   ]
  },
  {
   "cell_type": "code",
   "execution_count": 12,
   "id": "c2cf5e8e",
   "metadata": {},
   "outputs": [
    {
     "data": {
      "text/plain": [
       "52"
      ]
     },
     "execution_count": 12,
     "metadata": {},
     "output_type": "execute_result"
    }
   ],
   "source": [
    "quantile(num_friends, 0.50)"
   ]
  },
  {
   "cell_type": "code",
   "execution_count": 13,
   "id": "b62b734b",
   "metadata": {},
   "outputs": [
    {
     "data": {
      "text/plain": [
       "75"
      ]
     },
     "execution_count": 13,
     "metadata": {},
     "output_type": "execute_result"
    }
   ],
   "source": [
    "quantile(num_friends, 0.75)"
   ]
  },
  {
   "cell_type": "code",
   "execution_count": 14,
   "id": "13706224",
   "metadata": {},
   "outputs": [
    {
     "data": {
      "text/plain": [
       "90"
      ]
     },
     "execution_count": 14,
     "metadata": {},
     "output_type": "execute_result"
    }
   ],
   "source": [
    "quantile(num_friends, 0.90)"
   ]
  },
  {
   "cell_type": "code",
   "execution_count": 15,
   "id": "3a8bba13",
   "metadata": {},
   "outputs": [
    {
     "data": {
      "text/plain": [
       "100"
      ]
     },
     "execution_count": 15,
     "metadata": {},
     "output_type": "execute_result"
    }
   ],
   "source": [
    "quantile(num_friends, 0.99)"
   ]
  },
  {
   "cell_type": "code",
   "execution_count": 18,
   "id": "c449e1c2",
   "metadata": {},
   "outputs": [],
   "source": [
    "def mode(x):\n",
    "    # Retorna lista, pode haver mais de uma moda\n",
    "    counts = Counter(x)\n",
    "    max_count = max(counts.values())\n",
    "    return [x_i for x_i, count in counts.items()\n",
    "            if count == max_count]"
   ]
  },
  {
   "cell_type": "code",
   "execution_count": 19,
   "id": "2441c749",
   "metadata": {},
   "outputs": [
    {
     "data": {
      "text/plain": [
       "[92]"
      ]
     },
     "execution_count": 19,
     "metadata": {},
     "output_type": "execute_result"
    }
   ],
   "source": [
    "mode(num_friends)"
   ]
  },
  {
   "cell_type": "markdown",
   "id": "ae05cf47",
   "metadata": {},
   "source": [
    "### Dispersão"
   ]
  },
  {
   "cell_type": "code",
   "execution_count": null,
   "id": "a700b879",
   "metadata": {},
   "outputs": [],
   "source": [
    "# amplitude\n",
    "def data_range(x):\n",
    "    return max(x) - min(x)"
   ]
  },
  {
   "cell_type": "code",
   "execution_count": null,
   "id": "a94bb958",
   "metadata": {},
   "outputs": [],
   "source": [
    "data_range(num_friends)"
   ]
  },
  {
   "cell_type": "code",
   "execution_count": null,
   "id": "4d73935d",
   "metadata": {},
   "outputs": [],
   "source": [
    "# variância\n",
    "def de_mean(x):\n",
    "    # desloca 'x' ao subtrair sua média, então o resultado tem a média 0\n",
    "    "
   ]
  }
 ],
 "metadata": {
  "kernelspec": {
   "display_name": "Python 3 (ipykernel)",
   "language": "python",
   "name": "python3"
  },
  "language_info": {
   "codemirror_mode": {
    "name": "ipython",
    "version": 3
   },
   "file_extension": ".py",
   "mimetype": "text/x-python",
   "name": "python",
   "nbconvert_exporter": "python",
   "pygments_lexer": "ipython3",
   "version": "3.8.10"
  }
 },
 "nbformat": 4,
 "nbformat_minor": 5
}
